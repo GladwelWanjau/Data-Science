{
  "nbformat": 4,
  "nbformat_minor": 0,
  "metadata": {
    "colab": {
      "name": "Moringa_Data_Science_Prep_W4_Independent_Project_2020_07_Gladwel_Wanjau_Python_Notebook",
      "provenance": [],
      "collapsed_sections": [],
      "toc_visible": true,
      "authorship_tag": "ABX9TyOIWPJOutjFxIuoYTrg88PR",
      "include_colab_link": true
    },
    "kernelspec": {
      "name": "python3",
      "display_name": "Python 3"
    }
  },
  "cells": [
    {
      "cell_type": "markdown",
      "metadata": {
        "id": "view-in-github",
        "colab_type": "text"
      },
      "source": [
        "<a href=\"https://colab.research.google.com/github/GladwelWanjau/Data-Science/blob/master/Moringa_Data_Science_Prep_W4_Independent_Project_2020_07_Gladwel_Wanjau_Python_Notebook.ipynb\" target=\"_parent\"><img src=\"https://colab.research.google.com/assets/colab-badge.svg\" alt=\"Open In Colab\"/></a>"
      ]
    },
    {
      "cell_type": "markdown",
      "metadata": {
        "id": "6fjJz_KK41V1",
        "colab_type": "text"
      },
      "source": [
        "# Loading the Dataset"
      ]
    },
    {
      "cell_type": "code",
      "metadata": {
        "id": "Ck0vRsBzZLjD",
        "colab_type": "code",
        "colab": {}
      },
      "source": [
        "#Importing libraries\n",
        "# Importing the Pandas Library\n",
        "import pandas as pd\n",
        "\n",
        "# Importing the Numpy Library\n",
        "import numpy as np\n"
      ],
      "execution_count": 8,
      "outputs": []
    },
    {
      "cell_type": "code",
      "metadata": {
        "id": "u_pJzBCe4-aB",
        "colab_type": "code",
        "colab": {
          "base_uri": "https://localhost:8080/",
          "height": 442
        },
        "outputId": "1280d3dc-4962-493a-f7ba-ba701125b7a8"
      },
      "source": [
        "# First lets import our dataset \n",
        "\n",
        "# Let's set the location for our data\n",
        "url = 'http://bit.ly/autolib_dataset'\n",
        "\n",
        "# We then store this dataset in a dataframe\n",
        "# We us the latin1 encoding because our dataset contains special characters in the Address column. \n",
        "\n",
        "autolib_dataset = pd.read_csv(url, encoding = \"latin1\")\n",
        "\n",
        "# viewieng the columns of this dataframe, this will help us get familiar with the dataset before working on it\n",
        "autolib_dataset.columns.values.tolist()"
      ],
      "execution_count": 10,
      "outputs": [
        {
          "output_type": "execute_result",
          "data": {
            "text/plain": [
              "['Address',\n",
              " 'Cars',\n",
              " 'Bluecar counter',\n",
              " 'Utilib counter',\n",
              " 'Utilib 1.4 counter',\n",
              " 'Charge Slots',\n",
              " 'Charging Status',\n",
              " 'City',\n",
              " 'Displayed comment',\n",
              " 'ID',\n",
              " 'Kind',\n",
              " 'Geo point',\n",
              " 'Postal code',\n",
              " 'Public name',\n",
              " 'Rental status',\n",
              " 'Scheduled at',\n",
              " 'Slots',\n",
              " 'Station type',\n",
              " 'Status',\n",
              " 'Subscription status',\n",
              " 'year',\n",
              " 'month',\n",
              " 'day',\n",
              " 'hour',\n",
              " 'minute']"
            ]
          },
          "metadata": {
            "tags": []
          },
          "execution_count": 10
        }
      ]
    },
    {
      "cell_type": "code",
      "metadata": {
        "id": "4Tyi3DMf8aBX",
        "colab_type": "code",
        "colab": {
          "base_uri": "https://localhost:8080/",
          "height": 445
        },
        "outputId": "c4a6c112-40e8-4414-8710-2afa7129fa6b"
      },
      "source": [
        "# loading the first 5 rows of our data and try to understand it more\n",
        "# Additionally this helps with identifying any missing values and understanding the parameters\n",
        "autolib_dataset.head()\n",
        "#From the data there is missing data on the Displayed comment and Scheduled at columns"
      ],
      "execution_count": 11,
      "outputs": [
        {
          "output_type": "execute_result",
          "data": {
            "text/html": [
              "<div>\n",
              "<style scoped>\n",
              "    .dataframe tbody tr th:only-of-type {\n",
              "        vertical-align: middle;\n",
              "    }\n",
              "\n",
              "    .dataframe tbody tr th {\n",
              "        vertical-align: top;\n",
              "    }\n",
              "\n",
              "    .dataframe thead th {\n",
              "        text-align: right;\n",
              "    }\n",
              "</style>\n",
              "<table border=\"1\" class=\"dataframe\">\n",
              "  <thead>\n",
              "    <tr style=\"text-align: right;\">\n",
              "      <th></th>\n",
              "      <th>Address</th>\n",
              "      <th>Cars</th>\n",
              "      <th>Bluecar counter</th>\n",
              "      <th>Utilib counter</th>\n",
              "      <th>Utilib 1.4 counter</th>\n",
              "      <th>Charge Slots</th>\n",
              "      <th>Charging Status</th>\n",
              "      <th>City</th>\n",
              "      <th>Displayed comment</th>\n",
              "      <th>ID</th>\n",
              "      <th>Kind</th>\n",
              "      <th>Geo point</th>\n",
              "      <th>Postal code</th>\n",
              "      <th>Public name</th>\n",
              "      <th>Rental status</th>\n",
              "      <th>Scheduled at</th>\n",
              "      <th>Slots</th>\n",
              "      <th>Station type</th>\n",
              "      <th>Status</th>\n",
              "      <th>Subscription status</th>\n",
              "      <th>year</th>\n",
              "      <th>month</th>\n",
              "      <th>day</th>\n",
              "      <th>hour</th>\n",
              "      <th>minute</th>\n",
              "    </tr>\n",
              "  </thead>\n",
              "  <tbody>\n",
              "    <tr>\n",
              "      <th>0</th>\n",
              "      <td>2 Avenue de Suffren</td>\n",
              "      <td>0</td>\n",
              "      <td>0</td>\n",
              "      <td>0</td>\n",
              "      <td>0</td>\n",
              "      <td>0</td>\n",
              "      <td>nonexistent</td>\n",
              "      <td>Paris</td>\n",
              "      <td>NaN</td>\n",
              "      <td>paris-suffren-2</td>\n",
              "      <td>STATION</td>\n",
              "      <td>48.857, 2.2917</td>\n",
              "      <td>75015</td>\n",
              "      <td>Paris/Suffren/2</td>\n",
              "      <td>operational</td>\n",
              "      <td>NaN</td>\n",
              "      <td>2</td>\n",
              "      <td>station</td>\n",
              "      <td>ok</td>\n",
              "      <td>nonexistent</td>\n",
              "      <td>2018</td>\n",
              "      <td>4</td>\n",
              "      <td>8</td>\n",
              "      <td>11</td>\n",
              "      <td>43</td>\n",
              "    </tr>\n",
              "    <tr>\n",
              "      <th>1</th>\n",
              "      <td>145 Rue Raymond Losserand</td>\n",
              "      <td>6</td>\n",
              "      <td>6</td>\n",
              "      <td>0</td>\n",
              "      <td>0</td>\n",
              "      <td>0</td>\n",
              "      <td>operational</td>\n",
              "      <td>Paris</td>\n",
              "      <td>NaN</td>\n",
              "      <td>paris-raymondlosserand-145</td>\n",
              "      <td>STATION</td>\n",
              "      <td>48.83126, 2.313088</td>\n",
              "      <td>75014</td>\n",
              "      <td>Paris/Raymond Losserand/145</td>\n",
              "      <td>operational</td>\n",
              "      <td>NaN</td>\n",
              "      <td>0</td>\n",
              "      <td>station</td>\n",
              "      <td>ok</td>\n",
              "      <td>nonexistent</td>\n",
              "      <td>2018</td>\n",
              "      <td>4</td>\n",
              "      <td>6</td>\n",
              "      <td>7</td>\n",
              "      <td>24</td>\n",
              "    </tr>\n",
              "    <tr>\n",
              "      <th>2</th>\n",
              "      <td>2 Avenue John Fitzgerald Kennedy</td>\n",
              "      <td>3</td>\n",
              "      <td>3</td>\n",
              "      <td>0</td>\n",
              "      <td>2</td>\n",
              "      <td>0</td>\n",
              "      <td>operational</td>\n",
              "      <td>Le Bourget</td>\n",
              "      <td>NaN</td>\n",
              "      <td>lebourget-johnfitzgeraldkennedy-2</td>\n",
              "      <td>STATION</td>\n",
              "      <td>48.938103, 2.4286035</td>\n",
              "      <td>93350</td>\n",
              "      <td>Le Bourget/John Fitzgerald Kennedy/2</td>\n",
              "      <td>operational</td>\n",
              "      <td>NaN</td>\n",
              "      <td>1</td>\n",
              "      <td>station</td>\n",
              "      <td>ok</td>\n",
              "      <td>nonexistent</td>\n",
              "      <td>2018</td>\n",
              "      <td>4</td>\n",
              "      <td>3</td>\n",
              "      <td>20</td>\n",
              "      <td>14</td>\n",
              "    </tr>\n",
              "    <tr>\n",
              "      <th>3</th>\n",
              "      <td>51 Rue EugÃÂ¨ne OudinÃÂ©</td>\n",
              "      <td>3</td>\n",
              "      <td>3</td>\n",
              "      <td>1</td>\n",
              "      <td>0</td>\n",
              "      <td>1</td>\n",
              "      <td>operational</td>\n",
              "      <td>Paris</td>\n",
              "      <td>NaN</td>\n",
              "      <td>paris-eugeneoudine-51</td>\n",
              "      <td>STATION</td>\n",
              "      <td>48.8250327, 2.3725162</td>\n",
              "      <td>75013</td>\n",
              "      <td>Paris/EugÃÂ¨ne OudinÃÂ©/51</td>\n",
              "      <td>operational</td>\n",
              "      <td>NaN</td>\n",
              "      <td>2</td>\n",
              "      <td>station</td>\n",
              "      <td>ok</td>\n",
              "      <td>nonexistent</td>\n",
              "      <td>2018</td>\n",
              "      <td>4</td>\n",
              "      <td>4</td>\n",
              "      <td>4</td>\n",
              "      <td>37</td>\n",
              "    </tr>\n",
              "    <tr>\n",
              "      <th>4</th>\n",
              "      <td>6 avenue de la Porte de Champerret</td>\n",
              "      <td>3</td>\n",
              "      <td>3</td>\n",
              "      <td>0</td>\n",
              "      <td>0</td>\n",
              "      <td>0</td>\n",
              "      <td>nonexistent</td>\n",
              "      <td>Paris</td>\n",
              "      <td>NaN</td>\n",
              "      <td>paris-portedechamperret-6</td>\n",
              "      <td>PARKING</td>\n",
              "      <td>48.8862632, 2.2874511</td>\n",
              "      <td>75017</td>\n",
              "      <td>Paris/Porte de Champerret/6</td>\n",
              "      <td>operational</td>\n",
              "      <td>NaN</td>\n",
              "      <td>3</td>\n",
              "      <td>station</td>\n",
              "      <td>ok</td>\n",
              "      <td>nonexistent</td>\n",
              "      <td>2018</td>\n",
              "      <td>4</td>\n",
              "      <td>8</td>\n",
              "      <td>17</td>\n",
              "      <td>23</td>\n",
              "    </tr>\n",
              "  </tbody>\n",
              "</table>\n",
              "</div>"
            ],
            "text/plain": [
              "                              Address  Cars  Bluecar counter  ...  day  hour  minute\n",
              "0                 2 Avenue de Suffren     0                0  ...    8    11      43\n",
              "1           145 Rue Raymond Losserand     6                6  ...    6     7      24\n",
              "2    2 Avenue John Fitzgerald Kennedy     3                3  ...    3    20      14\n",
              "3          51 Rue EugÃÂ¨ne OudinÃÂ©     3                3  ...    4     4      37\n",
              "4  6 avenue de la Porte de Champerret     3                3  ...    8    17      23\n",
              "\n",
              "[5 rows x 25 columns]"
            ]
          },
          "metadata": {
            "tags": []
          },
          "execution_count": 11
        }
      ]
    },
    {
      "cell_type": "code",
      "metadata": {
        "id": "3FUE1G-89U73",
        "colab_type": "code",
        "colab": {
          "base_uri": "https://localhost:8080/",
          "height": 153
        },
        "outputId": "b66c793d-357d-4979-9a3d-6013abd6b7ad"
      },
      "source": [
        "# loading the data with the default values\n",
        "print(pd.read_csv(url, encoding = 'latin1').head())"
      ],
      "execution_count": null,
      "outputs": [
        {
          "output_type": "stream",
          "text": [
            "                              Address  Cars  Bluecar counter  ...  day  hour  minute\n",
            "0                 2 Avenue de Suffren     0                0  ...    8    11      43\n",
            "1           145 Rue Raymond Losserand     6                6  ...    6     7      24\n",
            "2    2 Avenue John Fitzgerald Kennedy     3                3  ...    3    20      14\n",
            "3          51 Rue EugÃÂ¨ne OudinÃÂ©     3                3  ...    4     4      37\n",
            "4  6 avenue de la Porte de Champerret     3                3  ...    8    17      23\n",
            "\n",
            "[5 rows x 25 columns]\n"
          ],
          "name": "stdout"
        }
      ]
    },
    {
      "cell_type": "code",
      "metadata": {
        "id": "iWaQ8c41D14c",
        "colab_type": "code",
        "colab": {
          "base_uri": "https://localhost:8080/",
          "height": 153
        },
        "outputId": "32eec9f7-69b1-4eaa-b06f-a4cd04da2b87"
      },
      "source": [
        "# loading the data without default missing values we use the keep_default_na=False \n",
        " \n",
        "print(pd.read_csv(url, encoding = 'latin1', keep_default_na = False).head())"
      ],
      "execution_count": null,
      "outputs": [
        {
          "output_type": "stream",
          "text": [
            "                              Address  Cars  Bluecar counter  ...  day  hour  minute\n",
            "0                 2 Avenue de Suffren     0                0  ...    8    11      43\n",
            "1           145 Rue Raymond Losserand     6                6  ...    6     7      24\n",
            "2    2 Avenue John Fitzgerald Kennedy     3                3  ...    3    20      14\n",
            "3          51 Rue EugÃÂ¨ne OudinÃÂ©     3                3  ...    4     4      37\n",
            "4  6 avenue de la Porte de Champerret     3                3  ...    8    17      23\n",
            "\n",
            "[5 rows x 25 columns]\n"
          ],
          "name": "stdout"
        }
      ]
    },
    {
      "cell_type": "code",
      "metadata": {
        "id": "tYxwUK2oESOC",
        "colab_type": "code",
        "colab": {
          "base_uri": "https://localhost:8080/",
          "height": 153
        },
        "outputId": "8ff7f1b6-f634-4dc8-a408-754f09362125"
      },
      "source": [
        "#Loading data without any other missing values\n",
        "print(pd.read_csv(url, na_filter = True, encoding ='latin1').head())"
      ],
      "execution_count": null,
      "outputs": [
        {
          "output_type": "stream",
          "text": [
            "                              Address  Cars  Bluecar counter  ...  day  hour  minute\n",
            "0                 2 Avenue de Suffren     0                0  ...    8    11      43\n",
            "1           145 Rue Raymond Losserand     6                6  ...    6     7      24\n",
            "2    2 Avenue John Fitzgerald Kennedy     3                3  ...    3    20      14\n",
            "3          51 Rue EugÃÂ¨ne OudinÃÂ©     3                3  ...    4     4      37\n",
            "4  6 avenue de la Porte de Champerret     3                3  ...    8    17      23\n",
            "\n",
            "[5 rows x 25 columns]\n"
          ],
          "name": "stdout"
        }
      ]
    },
    {
      "cell_type": "markdown",
      "metadata": {
        "id": "Rd1AH9tzVTQi",
        "colab_type": "text"
      },
      "source": [
        "# Data Cleaning"
      ]
    },
    {
      "cell_type": "markdown",
      "metadata": {
        "id": "5H3T86mxVczF",
        "colab_type": "text"
      },
      "source": [
        "# 1. Accuracy\n",
        "\n",
        "> Indented block\n",
        "\n",
        "\n",
        "\n",
        ">\n",
        "\n"
      ]
    },
    {
      "cell_type": "markdown",
      "metadata": {
        "id": "iz5N-wKwVjvr",
        "colab_type": "text"
      },
      "source": [
        "# 2. Completenes"
      ]
    },
    {
      "cell_type": "code",
      "metadata": {
        "id": "K26cQ8f2ie7n",
        "colab_type": "code",
        "colab": {
          "base_uri": "https://localhost:8080/",
          "height": 459
        },
        "outputId": "3f1d24ed-b0bb-49b9-b3f4-1b896625c9ab"
      },
      "source": [
        "# Checking if there is any missing value in dataframe as a whole\n",
        "autolib_dataset.isnull()\n",
        "\n"
      ],
      "execution_count": null,
      "outputs": [
        {
          "output_type": "execute_result",
          "data": {
            "text/plain": [
              "Address                False\n",
              "Cars                   False\n",
              "Bluecar counter        False\n",
              "Utilib counter         False\n",
              "Utilib 1.4 counter     False\n",
              "Charge Slots           False\n",
              "Charging Status        False\n",
              "City                   False\n",
              "Displayed comment       True\n",
              "ID                     False\n",
              "Kind                   False\n",
              "Geo point              False\n",
              "Postal code            False\n",
              "Public name            False\n",
              "Rental status          False\n",
              "Scheduled at            True\n",
              "Slots                  False\n",
              "Station type           False\n",
              "Status                 False\n",
              "Subscription status    False\n",
              "year                   False\n",
              "month                  False\n",
              "day                    False\n",
              "hour                   False\n",
              "minute                 False\n",
              "dtype: bool"
            ]
          },
          "metadata": {
            "tags": []
          },
          "execution_count": 52
        }
      ]
    },
    {
      "cell_type": "code",
      "metadata": {
        "id": "DanNJSM5jXwI",
        "colab_type": "code",
        "colab": {
          "base_uri": "https://localhost:8080/",
          "height": 459
        },
        "outputId": "0300bb80-61c5-4f41-b586-f3af32f3920e"
      },
      "source": [
        "# Checking if there is any missing value across each column\n",
        "autolib_dataset.isnull().any()\n",
        "\n"
      ],
      "execution_count": null,
      "outputs": [
        {
          "output_type": "execute_result",
          "data": {
            "text/plain": [
              "Address                False\n",
              "Cars                   False\n",
              "Bluecar counter        False\n",
              "Utilib counter         False\n",
              "Utilib 1.4 counter     False\n",
              "Charge Slots           False\n",
              "Charging Status        False\n",
              "City                   False\n",
              "Displayed comment       True\n",
              "ID                     False\n",
              "Kind                   False\n",
              "Geo point              False\n",
              "Postal code            False\n",
              "Public name            False\n",
              "Rental status          False\n",
              "Scheduled at            True\n",
              "Slots                  False\n",
              "Station type           False\n",
              "Status                 False\n",
              "Subscription status    False\n",
              "year                   False\n",
              "month                  False\n",
              "day                    False\n",
              "hour                   False\n",
              "minute                 False\n",
              "dtype: bool"
            ]
          },
          "metadata": {
            "tags": []
          },
          "execution_count": 53
        }
      ]
    },
    {
      "cell_type": "code",
      "metadata": {
        "id": "AWY74kzPjZ2j",
        "colab_type": "code",
        "colab": {
          "base_uri": "https://localhost:8080/",
          "height": 459
        },
        "outputId": "efadd910-b06b-4c97-c8d5-d9f9b282e66e"
      },
      "source": [
        "# Checking how many missing values there are across each column\n",
        "autolib_dataset.isnull().sum()\n",
        "\n"
      ],
      "execution_count": null,
      "outputs": [
        {
          "output_type": "execute_result",
          "data": {
            "text/plain": [
              "Address                   0\n",
              "Cars                      0\n",
              "Bluecar counter           0\n",
              "Utilib counter            0\n",
              "Utilib 1.4 counter        0\n",
              "Charge Slots              0\n",
              "Charging Status           0\n",
              "City                      0\n",
              "Displayed comment      4889\n",
              "ID                        0\n",
              "Kind                      0\n",
              "Geo point                 0\n",
              "Postal code               0\n",
              "Public name               0\n",
              "Rental status             0\n",
              "Scheduled at           4953\n",
              "Slots                     0\n",
              "Station type              0\n",
              "Status                    0\n",
              "Subscription status       0\n",
              "year                      0\n",
              "month                     0\n",
              "day                       0\n",
              "hour                      0\n",
              "minute                    0\n",
              "dtype: int64"
            ]
          },
          "metadata": {
            "tags": []
          },
          "execution_count": 54
        }
      ]
    },
    {
      "cell_type": "code",
      "metadata": {
        "id": "UF0cOZAHjb97",
        "colab_type": "code",
        "colab": {
          "base_uri": "https://localhost:8080/",
          "height": 34
        },
        "outputId": "c3d3996b-9322-43b0-f6c3-7d03366fa76d"
      },
      "source": [
        "# checking if there are any missing values at all\n",
        "print(autolib_dataset.isnull().values.any())\n",
        "\n"
      ],
      "execution_count": null,
      "outputs": [
        {
          "output_type": "stream",
          "text": [
            "True\n"
          ],
          "name": "stdout"
        }
      ]
    },
    {
      "cell_type": "code",
      "metadata": {
        "id": "QGO0OVJYjd7D",
        "colab_type": "code",
        "colab": {
          "base_uri": "https://localhost:8080/",
          "height": 34
        },
        "outputId": "381a69cb-5616-4ed7-b641-d5432b6935eb"
      },
      "source": [
        "# Getting the total count of missing values\n",
        "print(autolib_dataset.isnull().sum().sum())"
      ],
      "execution_count": null,
      "outputs": [
        {
          "output_type": "stream",
          "text": [
            "9842\n"
          ],
          "name": "stdout"
        }
      ]
    },
    {
      "cell_type": "code",
      "metadata": {
        "id": "F_r2idY5j4-g",
        "colab_type": "code",
        "colab": {
          "base_uri": "https://localhost:8080/",
          "height": 493
        },
        "outputId": "3fd9e26d-792f-4706-9d8c-9a7552daba9e"
      },
      "source": [
        "#subjects_df_mean = pd.DataFrame(subjects_df_mean,columns=['Subject','Score'])\n",
        "\n",
        "# printing our dataframe\n",
        "print(subjects_df_mean)\n",
        "\n",
        "# imputing the mean \n",
        "subjects_df_mean['Score'] = subjects_df_mean['Score'].fillna((subjects_df_mean['Score'].mean()))\n",
        "\n",
        "# printing out our updated dataframe\n",
        "print(subjects_df_mean) \n"
      ],
      "execution_count": null,
      "outputs": [
        {
          "output_type": "stream",
          "text": [
            "                                 ADDRESS  CARS  ...  HOUR  MINUTE\n",
            "0                    2 Avenue de Suffren     0  ...    11      43\n",
            "1              145 Rue Raymond Losserand     6  ...     7      24\n",
            "2       2 Avenue John Fitzgerald Kennedy     3  ...    20      14\n",
            "3             51 Rue EugÃÂ¨ne OudinÃÂ©     3  ...     4      37\n",
            "4     6 avenue de la Porte de Champerret     3  ...    17      23\n",
            "...                                  ...   ...  ...   ...     ...\n",
            "4995               8 avenue MÃÂ©nelotte     2  ...    11      26\n",
            "4996                   37 rue de Dantzig     4  ...    16      56\n",
            "4997                      142 rue du Bac     1  ...     7       1\n",
            "4998         2 avenue du Val de Fontenay     2  ...    17      27\n",
            "4999                 5 Rue Henry Brisson     4  ...    10       2\n",
            "\n",
            "[5000 rows x 23 columns]\n",
            "                                 ADDRESS  CARS  ...  HOUR  MINUTE\n",
            "0                    2 Avenue de Suffren     0  ...    11      43\n",
            "1              145 Rue Raymond Losserand     6  ...     7      24\n",
            "2       2 Avenue John Fitzgerald Kennedy     3  ...    20      14\n",
            "3             51 Rue EugÃÂ¨ne OudinÃÂ©     3  ...     4      37\n",
            "4     6 avenue de la Porte de Champerret     3  ...    17      23\n",
            "...                                  ...   ...  ...   ...     ...\n",
            "4995               8 avenue MÃÂ©nelotte     2  ...    11      26\n",
            "4996                   37 rue de Dantzig     4  ...    16      56\n",
            "4997                      142 rue du Bac     1  ...     7       1\n",
            "4998         2 avenue du Val de Fontenay     2  ...    17      27\n",
            "4999                 5 Rue Henry Brisson     4  ...    10       2\n",
            "\n",
            "[5000 rows x 25 columns]\n"
          ],
          "name": "stdout"
        }
      ]
    },
    {
      "cell_type": "code",
      "metadata": {
        "id": "JbnLZDHakLFb",
        "colab_type": "code",
        "colab": {
          "base_uri": "https://localhost:8080/",
          "height": 459
        },
        "outputId": "f6117e82-3741-4ae3-eff4-2b0e88e4fcae"
      },
      "source": [
        "# Making sure that the missing values have been dropped\n",
        "print(clean_autolib_dataset.isnull().sum())"
      ],
      "execution_count": null,
      "outputs": [
        {
          "output_type": "stream",
          "text": [
            "Address                0\n",
            "Cars                   0\n",
            "Bluecar counter        0\n",
            "Utilib counter         0\n",
            "Utilib 1.4 counter     0\n",
            "Charge Slots           0\n",
            "Charging Status        0\n",
            "City                   0\n",
            "Displayed comment      0\n",
            "ID                     0\n",
            "Kind                   0\n",
            "Geo point              0\n",
            "Postal code            0\n",
            "Public name            0\n",
            "Rental status          0\n",
            "Scheduled at           0\n",
            "Slots                  0\n",
            "Station type           0\n",
            "Status                 0\n",
            "Subscription status    0\n",
            "year                   0\n",
            "month                  0\n",
            "day                    0\n",
            "hour                   0\n",
            "minute                 0\n",
            "dtype: int64\n"
          ],
          "name": "stdout"
        }
      ]
    },
    {
      "cell_type": "markdown",
      "metadata": {
        "id": "q3xY7GQxVtO4",
        "colab_type": "text"
      },
      "source": [
        "# 3. Consistency"
      ]
    },
    {
      "cell_type": "code",
      "metadata": {
        "id": "hO5IGyVTiclU",
        "colab_type": "code",
        "colab": {
          "base_uri": "https://localhost:8080/",
          "height": 221
        },
        "outputId": "f6a11e6a-2685-427d-fe77-728a6ba5c553"
      },
      "source": [
        "#  finding duplicates\n",
        "autolib_dataset.duplicated()\n"
      ],
      "execution_count": null,
      "outputs": [
        {
          "output_type": "execute_result",
          "data": {
            "text/plain": [
              "0       False\n",
              "1       False\n",
              "2       False\n",
              "3       False\n",
              "4       False\n",
              "        ...  \n",
              "4995    False\n",
              "4996    False\n",
              "4997    False\n",
              "4998    False\n",
              "4999    False\n",
              "Length: 5000, dtype: bool"
            ]
          },
          "metadata": {
            "tags": []
          },
          "execution_count": 61
        }
      ]
    },
    {
      "cell_type": "markdown",
      "metadata": {
        "id": "4C5ayeMrlfzO",
        "colab_type": "text"
      },
      "source": [
        "# 4.Uniformity"
      ]
    },
    {
      "cell_type": "code",
      "metadata": {
        "id": "UhuytpkTokY0",
        "colab_type": "code",
        "colab": {
          "base_uri": "https://localhost:8080/",
          "height": 745
        },
        "outputId": "cbfd0237-fcad-407e-f94a-1672f3689124"
      },
      "source": [
        "# Renaming the columns for consistency\n",
        "autolib_dataset.rename(columns = {'ADDRESS': 'MINUTE'}, inplace = True)\n",
        "autolib_dataset"
      ],
      "execution_count": null,
      "outputs": [
        {
          "output_type": "execute_result",
          "data": {
            "text/html": [
              "<div>\n",
              "<style scoped>\n",
              "    .dataframe tbody tr th:only-of-type {\n",
              "        vertical-align: middle;\n",
              "    }\n",
              "\n",
              "    .dataframe tbody tr th {\n",
              "        vertical-align: top;\n",
              "    }\n",
              "\n",
              "    .dataframe thead th {\n",
              "        text-align: right;\n",
              "    }\n",
              "</style>\n",
              "<table border=\"1\" class=\"dataframe\">\n",
              "  <thead>\n",
              "    <tr style=\"text-align: right;\">\n",
              "      <th></th>\n",
              "      <th>Address</th>\n",
              "      <th>Cars</th>\n",
              "      <th>Bluecar counter</th>\n",
              "      <th>Utilib counter</th>\n",
              "      <th>Utilib 1.4 counter</th>\n",
              "      <th>Charge Slots</th>\n",
              "      <th>Charging Status</th>\n",
              "      <th>City</th>\n",
              "      <th>Displayed comment</th>\n",
              "      <th>ID</th>\n",
              "      <th>Kind</th>\n",
              "      <th>Geo point</th>\n",
              "      <th>Postal code</th>\n",
              "      <th>Public name</th>\n",
              "      <th>Rental status</th>\n",
              "      <th>Scheduled at</th>\n",
              "      <th>Slots</th>\n",
              "      <th>Station type</th>\n",
              "      <th>Status</th>\n",
              "      <th>Subscription status</th>\n",
              "      <th>year</th>\n",
              "      <th>month</th>\n",
              "      <th>day</th>\n",
              "      <th>hour</th>\n",
              "      <th>minute</th>\n",
              "    </tr>\n",
              "  </thead>\n",
              "  <tbody>\n",
              "    <tr>\n",
              "      <th>0</th>\n",
              "      <td>2 Avenue de Suffren</td>\n",
              "      <td>0</td>\n",
              "      <td>0</td>\n",
              "      <td>0</td>\n",
              "      <td>0</td>\n",
              "      <td>0</td>\n",
              "      <td>nonexistent</td>\n",
              "      <td>Paris</td>\n",
              "      <td>NaN</td>\n",
              "      <td>paris-suffren-2</td>\n",
              "      <td>STATION</td>\n",
              "      <td>48.857, 2.2917</td>\n",
              "      <td>75015</td>\n",
              "      <td>Paris/Suffren/2</td>\n",
              "      <td>operational</td>\n",
              "      <td>NaN</td>\n",
              "      <td>2</td>\n",
              "      <td>station</td>\n",
              "      <td>ok</td>\n",
              "      <td>nonexistent</td>\n",
              "      <td>2018</td>\n",
              "      <td>4</td>\n",
              "      <td>8</td>\n",
              "      <td>11</td>\n",
              "      <td>43</td>\n",
              "    </tr>\n",
              "    <tr>\n",
              "      <th>1</th>\n",
              "      <td>145 Rue Raymond Losserand</td>\n",
              "      <td>6</td>\n",
              "      <td>6</td>\n",
              "      <td>0</td>\n",
              "      <td>0</td>\n",
              "      <td>0</td>\n",
              "      <td>operational</td>\n",
              "      <td>Paris</td>\n",
              "      <td>NaN</td>\n",
              "      <td>paris-raymondlosserand-145</td>\n",
              "      <td>STATION</td>\n",
              "      <td>48.83126, 2.313088</td>\n",
              "      <td>75014</td>\n",
              "      <td>Paris/Raymond Losserand/145</td>\n",
              "      <td>operational</td>\n",
              "      <td>NaN</td>\n",
              "      <td>0</td>\n",
              "      <td>station</td>\n",
              "      <td>ok</td>\n",
              "      <td>nonexistent</td>\n",
              "      <td>2018</td>\n",
              "      <td>4</td>\n",
              "      <td>6</td>\n",
              "      <td>7</td>\n",
              "      <td>24</td>\n",
              "    </tr>\n",
              "    <tr>\n",
              "      <th>2</th>\n",
              "      <td>2 Avenue John Fitzgerald Kennedy</td>\n",
              "      <td>3</td>\n",
              "      <td>3</td>\n",
              "      <td>0</td>\n",
              "      <td>2</td>\n",
              "      <td>0</td>\n",
              "      <td>operational</td>\n",
              "      <td>Le Bourget</td>\n",
              "      <td>NaN</td>\n",
              "      <td>lebourget-johnfitzgeraldkennedy-2</td>\n",
              "      <td>STATION</td>\n",
              "      <td>48.938103, 2.4286035</td>\n",
              "      <td>93350</td>\n",
              "      <td>Le Bourget/John Fitzgerald Kennedy/2</td>\n",
              "      <td>operational</td>\n",
              "      <td>NaN</td>\n",
              "      <td>1</td>\n",
              "      <td>station</td>\n",
              "      <td>ok</td>\n",
              "      <td>nonexistent</td>\n",
              "      <td>2018</td>\n",
              "      <td>4</td>\n",
              "      <td>3</td>\n",
              "      <td>20</td>\n",
              "      <td>14</td>\n",
              "    </tr>\n",
              "    <tr>\n",
              "      <th>3</th>\n",
              "      <td>51 Rue EugÃÂ¨ne OudinÃÂ©</td>\n",
              "      <td>3</td>\n",
              "      <td>3</td>\n",
              "      <td>1</td>\n",
              "      <td>0</td>\n",
              "      <td>1</td>\n",
              "      <td>operational</td>\n",
              "      <td>Paris</td>\n",
              "      <td>NaN</td>\n",
              "      <td>paris-eugeneoudine-51</td>\n",
              "      <td>STATION</td>\n",
              "      <td>48.8250327, 2.3725162</td>\n",
              "      <td>75013</td>\n",
              "      <td>Paris/EugÃÂ¨ne OudinÃÂ©/51</td>\n",
              "      <td>operational</td>\n",
              "      <td>NaN</td>\n",
              "      <td>2</td>\n",
              "      <td>station</td>\n",
              "      <td>ok</td>\n",
              "      <td>nonexistent</td>\n",
              "      <td>2018</td>\n",
              "      <td>4</td>\n",
              "      <td>4</td>\n",
              "      <td>4</td>\n",
              "      <td>37</td>\n",
              "    </tr>\n",
              "    <tr>\n",
              "      <th>4</th>\n",
              "      <td>6 avenue de la Porte de Champerret</td>\n",
              "      <td>3</td>\n",
              "      <td>3</td>\n",
              "      <td>0</td>\n",
              "      <td>0</td>\n",
              "      <td>0</td>\n",
              "      <td>nonexistent</td>\n",
              "      <td>Paris</td>\n",
              "      <td>NaN</td>\n",
              "      <td>paris-portedechamperret-6</td>\n",
              "      <td>PARKING</td>\n",
              "      <td>48.8862632, 2.2874511</td>\n",
              "      <td>75017</td>\n",
              "      <td>Paris/Porte de Champerret/6</td>\n",
              "      <td>operational</td>\n",
              "      <td>NaN</td>\n",
              "      <td>3</td>\n",
              "      <td>station</td>\n",
              "      <td>ok</td>\n",
              "      <td>nonexistent</td>\n",
              "      <td>2018</td>\n",
              "      <td>4</td>\n",
              "      <td>8</td>\n",
              "      <td>17</td>\n",
              "      <td>23</td>\n",
              "    </tr>\n",
              "    <tr>\n",
              "      <th>...</th>\n",
              "      <td>...</td>\n",
              "      <td>...</td>\n",
              "      <td>...</td>\n",
              "      <td>...</td>\n",
              "      <td>...</td>\n",
              "      <td>...</td>\n",
              "      <td>...</td>\n",
              "      <td>...</td>\n",
              "      <td>...</td>\n",
              "      <td>...</td>\n",
              "      <td>...</td>\n",
              "      <td>...</td>\n",
              "      <td>...</td>\n",
              "      <td>...</td>\n",
              "      <td>...</td>\n",
              "      <td>...</td>\n",
              "      <td>...</td>\n",
              "      <td>...</td>\n",
              "      <td>...</td>\n",
              "      <td>...</td>\n",
              "      <td>...</td>\n",
              "      <td>...</td>\n",
              "      <td>...</td>\n",
              "      <td>...</td>\n",
              "      <td>...</td>\n",
              "    </tr>\n",
              "    <tr>\n",
              "      <th>4995</th>\n",
              "      <td>8 avenue MÃÂ©nelotte</td>\n",
              "      <td>2</td>\n",
              "      <td>2</td>\n",
              "      <td>0</td>\n",
              "      <td>0</td>\n",
              "      <td>0</td>\n",
              "      <td>nonexistent</td>\n",
              "      <td>Colombes</td>\n",
              "      <td>NaN</td>\n",
              "      <td>colombes-menelotte-8</td>\n",
              "      <td>STATION</td>\n",
              "      <td>48.9246525, 2.259313</td>\n",
              "      <td>92700</td>\n",
              "      <td>Colombes/MÃÂ©nelotte/8</td>\n",
              "      <td>operational</td>\n",
              "      <td>NaN</td>\n",
              "      <td>3</td>\n",
              "      <td>station</td>\n",
              "      <td>ok</td>\n",
              "      <td>nonexistent</td>\n",
              "      <td>2018</td>\n",
              "      <td>4</td>\n",
              "      <td>6</td>\n",
              "      <td>11</td>\n",
              "      <td>26</td>\n",
              "    </tr>\n",
              "    <tr>\n",
              "      <th>4996</th>\n",
              "      <td>37 rue de Dantzig</td>\n",
              "      <td>4</td>\n",
              "      <td>4</td>\n",
              "      <td>0</td>\n",
              "      <td>0</td>\n",
              "      <td>1</td>\n",
              "      <td>operational</td>\n",
              "      <td>Paris</td>\n",
              "      <td>NaN</td>\n",
              "      <td>paris-dantzig-37</td>\n",
              "      <td>STATION</td>\n",
              "      <td>48.8335103, 2.2987201</td>\n",
              "      <td>75015</td>\n",
              "      <td>Paris/Dantzig/37</td>\n",
              "      <td>operational</td>\n",
              "      <td>NaN</td>\n",
              "      <td>2</td>\n",
              "      <td>station</td>\n",
              "      <td>ok</td>\n",
              "      <td>nonexistent</td>\n",
              "      <td>2018</td>\n",
              "      <td>4</td>\n",
              "      <td>4</td>\n",
              "      <td>16</td>\n",
              "      <td>56</td>\n",
              "    </tr>\n",
              "    <tr>\n",
              "      <th>4997</th>\n",
              "      <td>142 rue du Bac</td>\n",
              "      <td>1</td>\n",
              "      <td>1</td>\n",
              "      <td>0</td>\n",
              "      <td>0</td>\n",
              "      <td>1</td>\n",
              "      <td>operational</td>\n",
              "      <td>Paris</td>\n",
              "      <td>NaN</td>\n",
              "      <td>paris-bac-142</td>\n",
              "      <td>STATION</td>\n",
              "      <td>48.8508194, 2.3237968</td>\n",
              "      <td>75007</td>\n",
              "      <td>Paris/Bac/142</td>\n",
              "      <td>operational</td>\n",
              "      <td>NaN</td>\n",
              "      <td>4</td>\n",
              "      <td>station</td>\n",
              "      <td>ok</td>\n",
              "      <td>nonexistent</td>\n",
              "      <td>2018</td>\n",
              "      <td>4</td>\n",
              "      <td>1</td>\n",
              "      <td>7</td>\n",
              "      <td>1</td>\n",
              "    </tr>\n",
              "    <tr>\n",
              "      <th>4998</th>\n",
              "      <td>2 avenue du Val de Fontenay</td>\n",
              "      <td>2</td>\n",
              "      <td>2</td>\n",
              "      <td>0</td>\n",
              "      <td>0</td>\n",
              "      <td>0</td>\n",
              "      <td>nonexistent</td>\n",
              "      <td>Fontenay-Sous-Bois</td>\n",
              "      <td>NaN</td>\n",
              "      <td>fontenaysousbois-valdefontenay-2</td>\n",
              "      <td>STATION</td>\n",
              "      <td>48.8528247, 2.4869085</td>\n",
              "      <td>94120</td>\n",
              "      <td>Fontenay-Sous-Bois/Val de Fontenay/2</td>\n",
              "      <td>operational</td>\n",
              "      <td>NaN</td>\n",
              "      <td>3</td>\n",
              "      <td>station</td>\n",
              "      <td>ok</td>\n",
              "      <td>nonexistent</td>\n",
              "      <td>2018</td>\n",
              "      <td>4</td>\n",
              "      <td>4</td>\n",
              "      <td>17</td>\n",
              "      <td>27</td>\n",
              "    </tr>\n",
              "    <tr>\n",
              "      <th>4999</th>\n",
              "      <td>5 Rue Henry Brisson</td>\n",
              "      <td>4</td>\n",
              "      <td>4</td>\n",
              "      <td>0</td>\n",
              "      <td>0</td>\n",
              "      <td>0</td>\n",
              "      <td>operational</td>\n",
              "      <td>Paris</td>\n",
              "      <td>NaN</td>\n",
              "      <td>paris-henrybrisson-5</td>\n",
              "      <td>STATION</td>\n",
              "      <td>48.8984293, 2.3347923</td>\n",
              "      <td>75018</td>\n",
              "      <td>Paris/Henry Brisson/5</td>\n",
              "      <td>operational</td>\n",
              "      <td>NaN</td>\n",
              "      <td>0</td>\n",
              "      <td>station</td>\n",
              "      <td>ok</td>\n",
              "      <td>nonexistent</td>\n",
              "      <td>2018</td>\n",
              "      <td>4</td>\n",
              "      <td>8</td>\n",
              "      <td>10</td>\n",
              "      <td>2</td>\n",
              "    </tr>\n",
              "  </tbody>\n",
              "</table>\n",
              "<p>5000 rows × 25 columns</p>\n",
              "</div>"
            ],
            "text/plain": [
              "                                 Address  Cars  ...  hour  minute\n",
              "0                    2 Avenue de Suffren     0  ...    11      43\n",
              "1              145 Rue Raymond Losserand     6  ...     7      24\n",
              "2       2 Avenue John Fitzgerald Kennedy     3  ...    20      14\n",
              "3             51 Rue EugÃÂ¨ne OudinÃÂ©     3  ...     4      37\n",
              "4     6 avenue de la Porte de Champerret     3  ...    17      23\n",
              "...                                  ...   ...  ...   ...     ...\n",
              "4995               8 avenue MÃÂ©nelotte     2  ...    11      26\n",
              "4996                   37 rue de Dantzig     4  ...    16      56\n",
              "4997                      142 rue du Bac     1  ...     7       1\n",
              "4998         2 avenue du Val de Fontenay     2  ...    17      27\n",
              "4999                 5 Rue Henry Brisson     4  ...    10       2\n",
              "\n",
              "[5000 rows x 25 columns]"
            ]
          },
          "metadata": {
            "tags": []
          },
          "execution_count": 64
        }
      ]
    },
    {
      "cell_type": "code",
      "metadata": {
        "id": "8ikqKFtcpyLd",
        "colab_type": "code",
        "colab": {
          "base_uri": "https://localhost:8080/",
          "height": 255
        },
        "outputId": "15cc6f80-0d32-434b-d362-467136a4fbe0"
      },
      "source": [
        "#Fixing column names for consistency\n",
        "# We will use the .str method.\n",
        "# we use the following functions strip(), upper() and replace() functions\n",
        "# \n",
        "autolib_dataset.columns = autolib_dataset.columns.str.strip().str.upper().str.replace(' ', '_').str.replace('(', '').str.replace(')', '')\n",
        "print(autolib_dataset)"
      ],
      "execution_count": null,
      "outputs": [
        {
          "output_type": "stream",
          "text": [
            "                                 ADDRESS  CARS  ...  HOUR  MINUTE\n",
            "0                    2 Avenue de Suffren     0  ...    11      43\n",
            "1              145 Rue Raymond Losserand     6  ...     7      24\n",
            "2       2 Avenue John Fitzgerald Kennedy     3  ...    20      14\n",
            "3             51 Rue EugÃÂ¨ne OudinÃÂ©     3  ...     4      37\n",
            "4     6 avenue de la Porte de Champerret     3  ...    17      23\n",
            "...                                  ...   ...  ...   ...     ...\n",
            "4995               8 avenue MÃÂ©nelotte     2  ...    11      26\n",
            "4996                   37 rue de Dantzig     4  ...    16      56\n",
            "4997                      142 rue du Bac     1  ...     7       1\n",
            "4998         2 avenue du Val de Fontenay     2  ...    17      27\n",
            "4999                 5 Rue Henry Brisson     4  ...    10       2\n",
            "\n",
            "[5000 rows x 25 columns]\n"
          ],
          "name": "stdout"
        }
      ]
    },
    {
      "cell_type": "code",
      "metadata": {
        "id": "o9EjabIgrRwc",
        "colab_type": "code",
        "colab": {
          "base_uri": "https://localhost:8080/",
          "height": 578
        },
        "outputId": "4e93a1ff-e16a-402d-c42b-b78945b3a391"
      },
      "source": [
        "#Checking the data types\n",
        "print(autolib_dataset.info())"
      ],
      "execution_count": null,
      "outputs": [
        {
          "output_type": "stream",
          "text": [
            "<class 'pandas.core.frame.DataFrame'>\n",
            "RangeIndex: 5000 entries, 0 to 4999\n",
            "Data columns (total 25 columns):\n",
            " #   Column               Non-Null Count  Dtype \n",
            "---  ------               --------------  ----- \n",
            " 0   ADDRESS              5000 non-null   object\n",
            " 1   CARS                 5000 non-null   int64 \n",
            " 2   BLUECAR_COUNTER      5000 non-null   int64 \n",
            " 3   UTILIB_COUNTER       5000 non-null   int64 \n",
            " 4   UTILIB_1.4_COUNTER   5000 non-null   int64 \n",
            " 5   CHARGE_SLOTS         5000 non-null   int64 \n",
            " 6   CHARGING_STATUS      5000 non-null   object\n",
            " 7   CITY                 5000 non-null   object\n",
            " 8   DISPLAYED_COMMENT    111 non-null    object\n",
            " 9   ID                   5000 non-null   object\n",
            " 10  KIND                 5000 non-null   object\n",
            " 11  GEO_POINT            5000 non-null   object\n",
            " 12  POSTAL_CODE          5000 non-null   int64 \n",
            " 13  PUBLIC_NAME          5000 non-null   object\n",
            " 14  RENTAL_STATUS        5000 non-null   object\n",
            " 15  SCHEDULED_AT         47 non-null     object\n",
            " 16  SLOTS                5000 non-null   int64 \n",
            " 17  STATION_TYPE         5000 non-null   object\n",
            " 18  STATUS               5000 non-null   object\n",
            " 19  SUBSCRIPTION_STATUS  5000 non-null   object\n",
            " 20  YEAR                 5000 non-null   int64 \n",
            " 21  MONTH                5000 non-null   int64 \n",
            " 22  DAY                  5000 non-null   int64 \n",
            " 23  HOUR                 5000 non-null   int64 \n",
            " 24  MINUTE               5000 non-null   int64 \n",
            "dtypes: int64(12), object(13)\n",
            "memory usage: 976.7+ KB\n",
            "None\n"
          ],
          "name": "stdout"
        }
      ]
    },
    {
      "cell_type": "markdown",
      "metadata": {
        "id": "1u_UKVwdpODe",
        "colab_type": "text"
      },
      "source": [
        "# **Analysis**"
      ]
    },
    {
      "cell_type": "code",
      "metadata": {
        "id": "fr5UJfQepRE2",
        "colab_type": "code",
        "colab": {
          "base_uri": "https://localhost:8080/",
          "height": 459
        },
        "outputId": "8f0e5e01-489b-468c-94b9-bddff44d5a83"
      },
      "source": [
        "#Most popular hour for returning cars\n",
        "autolib_dataset.groupby([\"HOUR\"]) .size()"
      ],
      "execution_count": null,
      "outputs": [
        {
          "output_type": "execute_result",
          "data": {
            "text/plain": [
              "HOUR\n",
              "0     194\n",
              "1     194\n",
              "2     218\n",
              "3     218\n",
              "4     199\n",
              "5     211\n",
              "6     219\n",
              "7     219\n",
              "8     211\n",
              "9     221\n",
              "10    194\n",
              "11    210\n",
              "12    200\n",
              "13    213\n",
              "14    207\n",
              "15    200\n",
              "16    220\n",
              "17    198\n",
              "18    210\n",
              "19    208\n",
              "20    202\n",
              "21    237\n",
              "22    196\n",
              "23    201\n",
              "dtype: int64"
            ]
          },
          "metadata": {
            "tags": []
          },
          "execution_count": 79
        }
      ]
    },
    {
      "cell_type": "code",
      "metadata": {
        "id": "rgfgc15Lpw6G",
        "colab_type": "code",
        "colab": {
          "base_uri": "https://localhost:8080/",
          "height": 238
        },
        "outputId": "348fb41d-8ad6-455a-b69f-8fefb8f4bd57"
      },
      "source": [
        "#Most popular station\n",
        "#i) Overall\n",
        "autolib_dataset.groupby([\"ID\"]) .size() \n",
        "# Alfortville-europe-22 is the most popular station with 7 counts."
      ],
      "execution_count": null,
      "outputs": [
        {
          "output_type": "execute_result",
          "data": {
            "text/plain": [
              "ID\n",
              "alfortville-blanqui-61              4\n",
              "alfortville-charlesdegaulle-16      5\n",
              "alfortville-etiennedolet-174        2\n",
              "alfortville-europe-22               7\n",
              "alfortville-jeanbaptistepreux-17    4\n",
              "                                   ..\n",
              "vincennes-fontenay-44               4\n",
              "vincennes-mursduparc-2              5\n",
              "yerres-charlesdegaulle-99           5\n",
              "yerres-pierrebrossolette-92         5\n",
              "yerres-raymondpoincare-200          1\n",
              "Length: 1105, dtype: int64"
            ]
          },
          "metadata": {
            "tags": []
          },
          "execution_count": 111
        }
      ]
    },
    {
      "cell_type": "code",
      "metadata": {
        "id": "Hdv5_vmHyiuA",
        "colab_type": "code",
        "colab": {
          "base_uri": "https://localhost:8080/",
          "height": 459
        },
        "outputId": "3d30316a-025a-4304-aa39-2783dd01973d"
      },
      "source": [
        "#Most popular station\n",
        "#ii) At the most picking hour\n",
        "#Step One\n",
        "#Finding the most picking hour\n",
        "highest_hour=autolib_dataset.groupby([\"HOUR\"]) .size() \n",
        "print(highest_hour)\n",
        "#The most picking hour is the 21st hour with 237 counts.\n"
      ],
      "execution_count": null,
      "outputs": [
        {
          "output_type": "stream",
          "text": [
            "HOUR\n",
            "0     194\n",
            "1     194\n",
            "2     218\n",
            "3     218\n",
            "4     199\n",
            "5     211\n",
            "6     219\n",
            "7     219\n",
            "8     211\n",
            "9     221\n",
            "10    194\n",
            "11    210\n",
            "12    200\n",
            "13    213\n",
            "14    207\n",
            "15    200\n",
            "16    220\n",
            "17    198\n",
            "18    210\n",
            "19    208\n",
            "20    202\n",
            "21    237\n",
            "22    196\n",
            "23    201\n",
            "dtype: int64\n"
          ],
          "name": "stdout"
        }
      ]
    },
    {
      "cell_type": "code",
      "metadata": {
        "id": "a0LXgxI-6aIN",
        "colab_type": "code",
        "colab": {
          "base_uri": "https://localhost:8080/",
          "height": 238
        },
        "outputId": "59eae1d0-6174-4f17-d101-42654836141c"
      },
      "source": [
        "#Step 2\n",
        "#Finding the most popular station in the above mentioned hour\n",
        "autolib_dataset.groupby(['HOUR','ID']) .size()\n",
        "#The most popular station is yerres -charles degaulle-99."
      ],
      "execution_count": null,
      "outputs": [
        {
          "output_type": "execute_result",
          "data": {
            "text/plain": [
              "HOUR  ID                               \n",
              "0     alfortville-charlesdegaulle-16       1\n",
              "      alfortville-europe-22                1\n",
              "      antony-velpeau-14                    1\n",
              "      arcueil-paulbert-21                  1\n",
              "      asnieressurseine-henripoincare-53    1\n",
              "                                          ..\n",
              "23    villejuif-augusteperret-11           1\n",
              "      villejuif-eugenevarlin-11            1\n",
              "      villejuif-paulvaillantcouturier-9    1\n",
              "      villeneuvelagarenne-verdun-30        1\n",
              "      yerres-charlesdegaulle-99            2\n",
              "Length: 4612, dtype: int64"
            ]
          },
          "metadata": {
            "tags": []
          },
          "execution_count": 114
        }
      ]
    },
    {
      "cell_type": "code",
      "metadata": {
        "id": "D6I7LoWE9L6G",
        "colab_type": "code",
        "colab": {
          "base_uri": "https://localhost:8080/",
          "height": 238
        },
        "outputId": "76794f99-1478-49c2-cbd6-19a295fd7ca4"
      },
      "source": [
        "#Most popular hour for returning cars\n",
        "autolib_dataset.groupby(['STATUS','HOUR']) .size()"
      ],
      "execution_count": null,
      "outputs": [
        {
          "output_type": "execute_result",
          "data": {
            "text/plain": [
              "STATUS     HOUR\n",
              "closed     0       14\n",
              "           1       16\n",
              "           2       13\n",
              "           3       19\n",
              "           4       13\n",
              "                   ..\n",
              "scheduled  19       3\n",
              "           20       1\n",
              "           21       1\n",
              "           22       1\n",
              "           23       1\n",
              "Length: 71, dtype: int64"
            ]
          },
          "metadata": {
            "tags": []
          },
          "execution_count": 108
        }
      ]
    },
    {
      "cell_type": "code",
      "metadata": {
        "id": "8rrLgX9kpL5y",
        "colab_type": "code",
        "colab": {}
      },
      "source": [
        "#most popular postal code for picking up Blue Cars\n",
        "autolib_dataset.groupby(['ADDRESS','BLUECAR_COUNTER']) .size()"
      ],
      "execution_count": null,
      "outputs": []
    },
    {
      "cell_type": "code",
      "metadata": {
        "id": "YyLkuOqmNlqz",
        "colab_type": "code",
        "colab": {}
      },
      "source": [
        "#Most popular hour of the day for picking up a shared electric\n",
        "autolib_dataset.groupby(['HOUR','BLUECAR_COUNTER','CITY']) .size()"
      ],
      "execution_count": null,
      "outputs": []
    },
    {
      "cell_type": "code",
      "metadata": {
        "id": "frOfb-SOHUIG",
        "colab_type": "code",
        "colab": {
          "base_uri": "https://localhost:8080/",
          "height": 170
        },
        "outputId": "45c660ff-03cf-4c5e-9585-fdc4eec1a1a5"
      },
      "source": [
        "autolib_dataset.BLUECAR_COUNTER.value_counts() "
      ],
      "execution_count": null,
      "outputs": [
        {
          "output_type": "execute_result",
          "data": {
            "text/plain": [
              "0    1447\n",
              "3     672\n",
              "1     663\n",
              "4     636\n",
              "2     628\n",
              "5     574\n",
              "6     341\n",
              "7      39\n",
              "Name: BLUECAR_COUNTER, dtype: int64"
            ]
          },
          "metadata": {
            "tags": []
          },
          "execution_count": 120
        }
      ]
    },
    {
      "cell_type": "code",
      "metadata": {
        "id": "-rO2pi6PnU17",
        "colab_type": "code",
        "colab": {}
      },
      "source": [
        "autolib_dataset.groupby(autolib_dataset.HOUR)['BLUECAR_COUNTER','CITY'].describe()"
      ],
      "execution_count": null,
      "outputs": []
    },
    {
      "cell_type": "code",
      "metadata": {
        "id": "IChvrIW7mcb8",
        "colab_type": "code",
        "colab": {}
      },
      "source": [
        "#Most popular hour with Utilib 1.4\n",
        "autolib_dataset.groupby(['HOUR','UTILB_1.4_COUNTER','CITY']) .size()"
      ],
      "execution_count": null,
      "outputs": []
    }
  ]
}